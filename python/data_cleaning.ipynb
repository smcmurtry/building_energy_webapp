{
 "cells": [
  {
   "cell_type": "code",
   "execution_count": 1,
   "metadata": {
    "collapsed": false
   },
   "outputs": [],
   "source": [
    "import pandas as pd\n",
    "import numpy as np"
   ]
  },
  {
   "cell_type": "code",
   "execution_count": 2,
   "metadata": {
    "collapsed": true
   },
   "outputs": [],
   "source": [
    "data_path = '../data/'"
   ]
  },
  {
   "cell_type": "code",
   "execution_count": 3,
   "metadata": {
    "collapsed": true
   },
   "outputs": [],
   "source": [
    "df = pd.DataFrame.from_csv(data_path + 'bps_energy_consumption_2011_2012/2012 Raw-Table 1.csv', index_col=None)"
   ]
  },
  {
   "cell_type": "code",
   "execution_count": 4,
   "metadata": {
    "collapsed": true
   },
   "outputs": [],
   "source": [
    "col_names = list(df.columns)\n",
    "col_names[0] = 'organization'\n",
    "col_names[1] = 'sector'\n",
    "col_names[2] = 'subsector'\n",
    "col_names[3] = 'operation_name'\n",
    "col_names[4] = 'operation_type'\n",
    "col_names[8] = 'tot_floor_area'\n",
    "col_names[9] = 'floor_area_unit'\n",
    "col_names[-2] = 'en_intensity_ekWh_sqft'\n",
    "df.columns = col_names"
   ]
  },
  {
   "cell_type": "code",
   "execution_count": 5,
   "metadata": {
    "collapsed": false
   },
   "outputs": [
    {
     "data": {
      "text/plain": [
       "Index([u'organization', u'sector', u'subsector', u'operation_name', u'operation_type', u'Address', u'City', u'Zip', u'tot_floor_area', u'floor_area_unit', u'Average Hours per week', u'Annual Flow ', u'Electricity', u'Electricity Unit', u'Natural Gas', u'Natural Gas2', u'Fuel Oil 1 & 2', u'Fuel Oil 1 & 2 Unit', u'Fuel Oil 4 &6', u'Fuel Oil 4 &6 Unit', u'Propane', u'Propane Unit', u'Coal Quantity', u'Coal Unit', u'Wood', u'Wood3', u'District Heating', u'District Heating Unit', u'Renewable', u'Renewable Emission Factor', u'District Cooling', u'District Cooling Unit', u'District Cooling Renewable', u'District Cooling Renewable Emission Factor', u'Number of Portables', u'Swimming Pools', u'GHG Emissions KG', u'en_intensity_ekWh_sqft', u'Energy Intensity ekWh_mega_litre'], dtype='object')"
      ]
     },
     "execution_count": 5,
     "metadata": {},
     "output_type": "execute_result"
    }
   ],
   "source": [
    "df.columns"
   ]
  },
  {
   "cell_type": "code",
   "execution_count": 6,
   "metadata": {
    "collapsed": false
   },
   "outputs": [
    {
     "data": {
      "text/html": [
       "<div style=\"max-height:1000px;max-width:1500px;overflow:auto;\">\n",
       "<table border=\"1\" class=\"dataframe\">\n",
       "  <thead>\n",
       "    <tr style=\"text-align: right;\">\n",
       "      <th></th>\n",
       "      <th>organization</th>\n",
       "      <th>sector</th>\n",
       "      <th>subsector</th>\n",
       "      <th>operation_name</th>\n",
       "      <th>operation_type</th>\n",
       "      <th>Address</th>\n",
       "      <th>City</th>\n",
       "      <th>Zip</th>\n",
       "      <th>tot_floor_area</th>\n",
       "      <th>floor_area_unit</th>\n",
       "      <th>...</th>\n",
       "      <th>Renewable Emission Factor</th>\n",
       "      <th>District Cooling</th>\n",
       "      <th>District Cooling Unit</th>\n",
       "      <th>District Cooling Renewable</th>\n",
       "      <th>District Cooling Renewable Emission Factor</th>\n",
       "      <th>Number of Portables</th>\n",
       "      <th>Swimming Pools</th>\n",
       "      <th>GHG Emissions KG</th>\n",
       "      <th>en_intensity_ekWh_sqft</th>\n",
       "      <th>Energy Intensity ekWh_mega_litre</th>\n",
       "    </tr>\n",
       "  </thead>\n",
       "  <tbody>\n",
       "    <tr>\n",
       "      <th>0</th>\n",
       "      <td>                     Alexandra Hospital</td>\n",
       "      <td> Municipality</td>\n",
       "      <td>  Municipality</td>\n",
       "      <td>                Alexandra Hospital</td>\n",
       "      <td> Administrative offices and related facilities</td>\n",
       "      <td>      29 Noxon Street</td>\n",
       "      <td>   Ingersoll</td>\n",
       "      <td> N5C3V6</td>\n",
       "      <td>  3813.300000</td>\n",
       "      <td> Square meters</td>\n",
       "      <td>...</td>\n",
       "      <td> 0</td>\n",
       "      <td> 0</td>\n",
       "      <td> Giga Joule</td>\n",
       "      <td> False</td>\n",
       "      <td> 0</td>\n",
       "      <td> 0</td>\n",
       "      <td> False</td>\n",
       "      <td> 431640.001737</td>\n",
       "      <td>  69.597090</td>\n",
       "      <td> 0</td>\n",
       "    </tr>\n",
       "    <tr>\n",
       "      <th>1</th>\n",
       "      <td>                     Alexandra Hospital</td>\n",
       "      <td>     Hospital</td>\n",
       "      <td> Acute/Chronic</td>\n",
       "      <td>                Alexandra Hospital</td>\n",
       "      <td>         Facilities used for hospital purposes</td>\n",
       "      <td>      29 Noxon Street</td>\n",
       "      <td>   Ingersoll</td>\n",
       "      <td> N5C3V6</td>\n",
       "      <td>  4660.700000</td>\n",
       "      <td> Square meters</td>\n",
       "      <td>...</td>\n",
       "      <td> 0</td>\n",
       "      <td> 0</td>\n",
       "      <td> Giga Joule</td>\n",
       "      <td> False</td>\n",
       "      <td> 0</td>\n",
       "      <td> 0</td>\n",
       "      <td> False</td>\n",
       "      <td> 527560.002122</td>\n",
       "      <td>  69.597090</td>\n",
       "      <td> 0</td>\n",
       "    </tr>\n",
       "    <tr>\n",
       "      <th>2</th>\n",
       "      <td> Alexandria Glengarry Memorial Hospital</td>\n",
       "      <td> Municipality</td>\n",
       "      <td>  Municipality</td>\n",
       "      <td>       Glengarry Memorial Hospital</td>\n",
       "      <td> Administrative offices and related facilities</td>\n",
       "      <td> 20260 County Road 43</td>\n",
       "      <td>  Alexandria</td>\n",
       "      <td> K0C1A0</td>\n",
       "      <td>  3953.000000</td>\n",
       "      <td>   Square feet</td>\n",
       "      <td>...</td>\n",
       "      <td> 0</td>\n",
       "      <td> 0</td>\n",
       "      <td> Giga Joule</td>\n",
       "      <td> False</td>\n",
       "      <td> 0</td>\n",
       "      <td> 0</td>\n",
       "      <td> False</td>\n",
       "      <td>  45449.455922</td>\n",
       "      <td>  79.691924</td>\n",
       "      <td> 0</td>\n",
       "    </tr>\n",
       "    <tr>\n",
       "      <th>3</th>\n",
       "      <td> Alexandria Glengarry Memorial Hospital</td>\n",
       "      <td>     Hospital</td>\n",
       "      <td> Acute/Chronic</td>\n",
       "      <td>       Glengarry Memorial Hospital</td>\n",
       "      <td>         Facilities used for hospital purposes</td>\n",
       "      <td> 20260 County Road 43</td>\n",
       "      <td>  Alexandria</td>\n",
       "      <td> K0C1A0</td>\n",
       "      <td> 51016.000000</td>\n",
       "      <td>   Square feet</td>\n",
       "      <td>...</td>\n",
       "      <td> 0</td>\n",
       "      <td> 0</td>\n",
       "      <td> Giga Joule</td>\n",
       "      <td> False</td>\n",
       "      <td> 0</td>\n",
       "      <td> 0</td>\n",
       "      <td> False</td>\n",
       "      <td> 586529.974768</td>\n",
       "      <td>  79.689235</td>\n",
       "      <td> 0</td>\n",
       "    </tr>\n",
       "    <tr>\n",
       "      <th>4</th>\n",
       "      <td>           Algoma District School Board</td>\n",
       "      <td> School Board</td>\n",
       "      <td>  School Board</td>\n",
       "      <td> Adult Ed - Blind River (WC Eaket)</td>\n",
       "      <td>                                       Schools</td>\n",
       "      <td>     147 Woodward Ave</td>\n",
       "      <td> Blind River</td>\n",
       "      <td> P0R1B0</td>\n",
       "      <td>  1128.811234</td>\n",
       "      <td>   Square feet</td>\n",
       "      <td>...</td>\n",
       "      <td> 0</td>\n",
       "      <td> 0</td>\n",
       "      <td> Giga Joule</td>\n",
       "      <td> False</td>\n",
       "      <td> 0</td>\n",
       "      <td> 0</td>\n",
       "      <td> False</td>\n",
       "      <td>  52593.003152</td>\n",
       "      <td> 266.361078</td>\n",
       "      <td> 0</td>\n",
       "    </tr>\n",
       "  </tbody>\n",
       "</table>\n",
       "<p>5 rows × 39 columns</p>\n",
       "</div>"
      ],
      "text/plain": [
       "                             organization        sector      subsector  \\\n",
       "0                      Alexandra Hospital  Municipality   Municipality   \n",
       "1                      Alexandra Hospital      Hospital  Acute/Chronic   \n",
       "2  Alexandria Glengarry Memorial Hospital  Municipality   Municipality   \n",
       "3  Alexandria Glengarry Memorial Hospital      Hospital  Acute/Chronic   \n",
       "4            Algoma District School Board  School Board   School Board   \n",
       "\n",
       "                      operation_name  \\\n",
       "0                 Alexandra Hospital   \n",
       "1                 Alexandra Hospital   \n",
       "2        Glengarry Memorial Hospital   \n",
       "3        Glengarry Memorial Hospital   \n",
       "4  Adult Ed - Blind River (WC Eaket)   \n",
       "\n",
       "                                  operation_type               Address  \\\n",
       "0  Administrative offices and related facilities       29 Noxon Street   \n",
       "1          Facilities used for hospital purposes       29 Noxon Street   \n",
       "2  Administrative offices and related facilities  20260 County Road 43   \n",
       "3          Facilities used for hospital purposes  20260 County Road 43   \n",
       "4                                        Schools      147 Woodward Ave   \n",
       "\n",
       "          City     Zip  tot_floor_area floor_area_unit       ...        \\\n",
       "0    Ingersoll  N5C3V6     3813.300000   Square meters       ...         \n",
       "1    Ingersoll  N5C3V6     4660.700000   Square meters       ...         \n",
       "2   Alexandria  K0C1A0     3953.000000     Square feet       ...         \n",
       "3   Alexandria  K0C1A0    51016.000000     Square feet       ...         \n",
       "4  Blind River  P0R1B0     1128.811234     Square feet       ...         \n",
       "\n",
       "   Renewable Emission Factor  District Cooling  District Cooling Unit  \\\n",
       "0                          0                 0             Giga Joule   \n",
       "1                          0                 0             Giga Joule   \n",
       "2                          0                 0             Giga Joule   \n",
       "3                          0                 0             Giga Joule   \n",
       "4                          0                 0             Giga Joule   \n",
       "\n",
       "  District Cooling Renewable  District Cooling Renewable Emission Factor  \\\n",
       "0                      False                                           0   \n",
       "1                      False                                           0   \n",
       "2                      False                                           0   \n",
       "3                      False                                           0   \n",
       "4                      False                                           0   \n",
       "\n",
       "  Number of Portables  Swimming Pools GHG Emissions KG  \\\n",
       "0                   0           False    431640.001737   \n",
       "1                   0           False    527560.002122   \n",
       "2                   0           False     45449.455922   \n",
       "3                   0           False    586529.974768   \n",
       "4                   0           False     52593.003152   \n",
       "\n",
       "   en_intensity_ekWh_sqft Energy Intensity ekWh_mega_litre  \n",
       "0               69.597090                                0  \n",
       "1               69.597090                                0  \n",
       "2               79.691924                                0  \n",
       "3               79.689235                                0  \n",
       "4              266.361078                                0  \n",
       "\n",
       "[5 rows x 39 columns]"
      ]
     },
     "execution_count": 6,
     "metadata": {},
     "output_type": "execute_result"
    }
   ],
   "source": [
    "df.head()"
   ]
  },
  {
   "cell_type": "code",
   "execution_count": 7,
   "metadata": {
    "collapsed": false
   },
   "outputs": [
    {
     "data": {
      "text/plain": [
       "{'Administrative offices and related facilities',\n",
       " 'Administrative offices and related facilities, including municipal council chambers',\n",
       " 'Ambulance stations and associated offices and facilities',\n",
       " 'Art galleries',\n",
       " 'Auditoriums',\n",
       " 'Classrooms and related facilities',\n",
       " 'Community centres',\n",
       " 'Cultural facilities',\n",
       " 'Facilities related to the pumping of sewage',\n",
       " 'Facilities related to the pumping of water',\n",
       " 'Facilities related to the treatment of sewage',\n",
       " 'Facilities related to the treatment of water',\n",
       " 'Facilities used for hospital purposes',\n",
       " 'Fire stations and associated offices and facilities',\n",
       " 'Gyms and indoor courts for playing tennis, basketball or other sports',\n",
       " 'Indoor ice rinks',\n",
       " 'Indoor recreational facilities',\n",
       " 'Indoor sports arenas',\n",
       " 'Indoor swimming pools',\n",
       " 'Laboratories',\n",
       " 'Library',\n",
       " 'Other',\n",
       " 'Parking garage',\n",
       " 'Parking garages',\n",
       " 'Performing arts facilities',\n",
       " 'Police stations and associated offices and facilities',\n",
       " 'Public libraries',\n",
       " 'Schools',\n",
       " 'Storage facilities where equipment or vehicles are maintained, repaired or stored',\n",
       " 'Student recreational facilities and athletic facilities',\n",
       " 'Student residences'}"
      ]
     },
     "execution_count": 7,
     "metadata": {},
     "output_type": "execute_result"
    }
   ],
   "source": [
    "set(df.operation_type)"
   ]
  },
  {
   "cell_type": "markdown",
   "metadata": {},
   "source": [
    "#### Initial cleaning "
   ]
  },
  {
   "cell_type": "code",
   "execution_count": 8,
   "metadata": {
    "collapsed": true
   },
   "outputs": [],
   "source": [
    "for i in df.index:\n",
    "    \n",
    "    if df['sector'][i] == 'Post-secondary Educational Institute':\n",
    "        df['sector'][i] = 'Post-Secondary Educational Institute'\n",
    "    elif df['sector'][i] == 'School Boards':\n",
    "        df['sector'][i] = 'School Board'\n",
    "        \n",
    "    if df['subsector'][i] == 'college':\n",
    "        df['subsector'][i] = 'College'\n",
    "    elif df['subsector'][i] == 'School Boards':\n",
    "        df['subsector'][i] = 'School Board'\n",
    "    elif df['subsector'][i] == 'University ':\n",
    "        df['subsector'][i] = 'University'"
   ]
  },
  {
   "cell_type": "code",
   "execution_count": 9,
   "metadata": {
    "collapsed": true
   },
   "outputs": [],
   "source": [
    "df.to_csv(data_path + 'cleaned_2012_not_normalized.csv')"
   ]
  },
  {
   "cell_type": "markdown",
   "metadata": {},
   "source": [
    "#### First import the original data table and append the new lat lng columns, and the percentile rank column"
   ]
  },
  {
   "cell_type": "code",
   "execution_count": 3,
   "metadata": {
    "collapsed": false
   },
   "outputs": [],
   "source": [
    "df_master = pd.DataFrame.from_csv(data_path + \"cleaned_2012_not_normalized.csv\")\n",
    "df_w_coords = pd.DataFrame.from_csv(data_path + \"short_df_with_coords_backup.csv\")"
   ]
  },
  {
   "cell_type": "code",
   "execution_count": 5,
   "metadata": {
    "collapsed": false
   },
   "outputs": [
    {
     "data": {
      "text/plain": [
       "Index([u'organization', u'sector', u'subsector', u'operation_name', u'operation_type', u'Address', u'City', u'Zip', u'tot_floor_area', u'floor_area_unit', u'Average Hours per week', u'Annual Flow ', u'Electricity', u'Electricity Unit', u'Natural Gas', u'Natural Gas2', u'Fuel Oil 1 & 2', u'Fuel Oil 1 & 2 Unit', u'Fuel Oil 4 &6', u'Fuel Oil 4 &6 Unit', u'Propane', u'Propane Unit', u'Coal Quantity', u'Coal Unit', u'Wood', u'Wood3', u'District Heating', u'District Heating Unit', u'Renewable', u'Renewable Emission Factor', u'District Cooling', u'District Cooling Unit', u'District Cooling Renewable', u'District Cooling Renewable Emission Factor', u'Number of Portables', u'Swimming Pools', u'GHG Emissions KG', u'en_intensity_ekWh_sqft', u'Energy Intensity ekWh_mega_litre'], dtype='object')"
      ]
     },
     "execution_count": 5,
     "metadata": {},
     "output_type": "execute_result"
    }
   ],
   "source": [
    "df_master.columns"
   ]
  },
  {
   "cell_type": "code",
   "execution_count": 6,
   "metadata": {
    "collapsed": false
   },
   "outputs": [
    {
     "data": {
      "text/plain": [
       "{nan,\n",
       " 'Square feet',\n",
       " 'Square meters',\n",
       " 'm\\xc3\\xa8tres carr\\xc3\\xa9s',\n",
       " 'pieds carr\\xc3\\xa9s'}"
      ]
     },
     "execution_count": 6,
     "metadata": {},
     "output_type": "execute_result"
    }
   ],
   "source": [
    "set(df_master.floor_area_unit)"
   ]
  },
  {
   "cell_type": "markdown",
   "metadata": {},
   "source": [
    "Long!"
   ]
  },
  {
   "cell_type": "code",
   "execution_count": 7,
   "metadata": {
    "collapsed": false
   },
   "outputs": [],
   "source": [
    "df_master['tot_floor_area_ft2'] = pd.Series(index=df_master.index)\n",
    "\n",
    "for i in df_master.index[:]:\n",
    "    if df_master.floor_area_unit[i] in ('Square feet', 'pieds carr\\xc3\\xa9s'):\n",
    "        df_master.ix[i, 'tot_floor_area_ft2'] = int(df_master.tot_floor_area[i])\n",
    "    elif df_master.floor_area_unit[i] in ('Square meters', 'm\\xc3\\xa8tres carr\\xc3\\xa9s'):\n",
    "        df_master.ix[i, 'tot_floor_area_ft2'] = int(df_master.tot_floor_area[i]*(3.28084**2))"
   ]
  },
  {
   "cell_type": "markdown",
   "metadata": {},
   "source": [
    "Long!"
   ]
  },
  {
   "cell_type": "code",
   "execution_count": 8,
   "metadata": {
    "collapsed": false
   },
   "outputs": [],
   "source": [
    "df_master['en_intensity_rank'] = pd.Series(index=df_master.index)\n",
    "\n",
    "for i in df_master.index[:]:\n",
    "    en_intensity = df_master.en_intensity_ekWh_sqft[i]\n",
    "    op_type = df_master.operation_type[i]\n",
    "    peer_en_intensities = df_master.query(\"operation_type == @op_type\").en_intensity_ekWh_sqft\n",
    "    seq = sorted(peer_en_intensities)\n",
    "    rank = seq.index(en_intensity)\n",
    "    df_master.ix[i, 'en_intensity_rank'] = rank"
   ]
  },
  {
   "cell_type": "code",
   "execution_count": 52,
   "metadata": {
    "collapsed": false
   },
   "outputs": [
    {
     "name": "stdout",
     "output_type": "stream",
     "text": [
      "17978 17978\n"
     ]
    }
   ],
   "source": [
    "print len(df_master), len(df_w_coords)"
   ]
  },
  {
   "cell_type": "code",
   "execution_count": 10,
   "metadata": {
    "collapsed": false
   },
   "outputs": [],
   "source": [
    "df_master['lat'] = df_w_coords['lat']\n",
    "df_master['lng'] = df_w_coords['long']"
   ]
  },
  {
   "cell_type": "code",
   "execution_count": 8,
   "metadata": {
    "collapsed": false
   },
   "outputs": [],
   "source": [
    "df_master['en_intensity_ekWh_sqft_pct_rank'] = df_w_coords.en_intensity_ekWh_sqft_pct_rank"
   ]
  },
  {
   "cell_type": "code",
   "execution_count": 67,
   "metadata": {
    "collapsed": false
   },
   "outputs": [],
   "source": [
    "df_master.to_csv(data_path + \"master.csv\")"
   ]
  },
  {
   "cell_type": "markdown",
   "metadata": {},
   "source": [
    "#### Save point "
   ]
  },
  {
   "cell_type": "code",
   "execution_count": 3,
   "metadata": {
    "collapsed": false
   },
   "outputs": [],
   "source": [
    "df_master = pd.DataFrame.from_csv(data_path + \"master.csv\")"
   ]
  },
  {
   "cell_type": "markdown",
   "metadata": {},
   "source": [
    "#### Then create dim columns for operation_type, City and organization"
   ]
  },
  {
   "cell_type": "markdown",
   "metadata": {},
   "source": [
    "Then create dataframes for each of the dim columns, where the index is the dim number"
   ]
  },
  {
   "cell_type": "code",
   "execution_count": 4,
   "metadata": {
    "collapsed": false
   },
   "outputs": [],
   "source": [
    "def create_dim_dict(df, column_name):\n",
    "    dim_dict = {t:n for n, t in enumerate(list(set(df[column_name])))}\n",
    "    df['dim_' + column_name] = [dim_dict[df[column_name][i]] for i in df.index]\n",
    "    dim_df = pd.DataFrame(columns=['dim_' + column_name, column_name], index=range(len(dim_dict)))\n",
    "    i = 0\n",
    "    for dim_name in dim_dict:\n",
    "        dim_df.ix[i, column_name] = dim_name\n",
    "        dim_df.ix[i, 'dim_' + column_name] = dim_dict[dim_name]\n",
    "        i += 1\n",
    "    return df, dim_df"
   ]
  },
  {
   "cell_type": "markdown",
   "metadata": {},
   "source": [
    "#### Remove the water treatement operations before creating the dim tables "
   ]
  },
  {
   "cell_type": "code",
   "execution_count": 5,
   "metadata": {
    "collapsed": true
   },
   "outputs": [],
   "source": [
    "operations_to_exclude = ['Facilities related to the pumping of sewage', \n",
    "                         'Facilities related to the treatment of sewage', \n",
    "                         'Facilities related to the pumping of water', 'Other', \n",
    "                         'Facilities related to the treatment of water']"
   ]
  },
  {
   "cell_type": "code",
   "execution_count": 6,
   "metadata": {
    "collapsed": true
   },
   "outputs": [],
   "source": [
    "df_master_short = df_master.query(\"operation_type not in @operations_to_exclude\").copy()"
   ]
  },
  {
   "cell_type": "code",
   "execution_count": 7,
   "metadata": {
    "collapsed": false
   },
   "outputs": [],
   "source": [
    "df_master_short, df_dim_op_type = create_dim_dict(df_master_short, 'operation_type')\n",
    "df_master_short, df_dim_city = create_dim_dict(df_master_short, 'City')\n",
    "df_master_short, df_dim_organization = create_dim_dict(df_master_short, 'organization')"
   ]
  },
  {
   "cell_type": "code",
   "execution_count": 8,
   "metadata": {
    "collapsed": false
   },
   "outputs": [
    {
     "data": {
      "text/html": [
       "<div style=\"max-height:1000px;max-width:1500px;overflow:auto;\">\n",
       "<table border=\"1\" class=\"dataframe\">\n",
       "  <thead>\n",
       "    <tr style=\"text-align: right;\">\n",
       "      <th></th>\n",
       "      <th>organization</th>\n",
       "      <th>sector</th>\n",
       "      <th>subsector</th>\n",
       "      <th>operation_name</th>\n",
       "      <th>operation_type</th>\n",
       "      <th>Address</th>\n",
       "      <th>City</th>\n",
       "      <th>Zip</th>\n",
       "      <th>tot_floor_area</th>\n",
       "      <th>floor_area_unit</th>\n",
       "      <th>...</th>\n",
       "      <th>en_intensity_ekWh_sqft</th>\n",
       "      <th>Energy Intensity ekWh_mega_litre</th>\n",
       "      <th>lat</th>\n",
       "      <th>lng</th>\n",
       "      <th>en_intensity_ekWh_sqft_pct_rank</th>\n",
       "      <th>dim_operation_type</th>\n",
       "      <th>dim_City</th>\n",
       "      <th>dim_organization</th>\n",
       "      <th>tot_floor_area_ft2</th>\n",
       "      <th>en_intensity_rank</th>\n",
       "    </tr>\n",
       "  </thead>\n",
       "  <tbody>\n",
       "    <tr>\n",
       "      <th>0</th>\n",
       "      <td>                     Alexandra Hospital</td>\n",
       "      <td> Municipality</td>\n",
       "      <td>  Municipality</td>\n",
       "      <td>                Alexandra Hospital</td>\n",
       "      <td> Administrative offices and related facilities</td>\n",
       "      <td>      29 Noxon Street</td>\n",
       "      <td>   Ingersoll</td>\n",
       "      <td> N5C3V6</td>\n",
       "      <td>  3813.300000</td>\n",
       "      <td> Square meters</td>\n",
       "      <td>...</td>\n",
       "      <td>  69.597090</td>\n",
       "      <td> 0</td>\n",
       "      <td> 43.030919</td>\n",
       "      <td>-80.876204</td>\n",
       "      <td> 94.467497</td>\n",
       "      <td>  9</td>\n",
       "      <td> 857</td>\n",
       "      <td>  74</td>\n",
       "      <td> 41046</td>\n",
       "      <td>  682</td>\n",
       "    </tr>\n",
       "    <tr>\n",
       "      <th>1</th>\n",
       "      <td>                     Alexandra Hospital</td>\n",
       "      <td>     Hospital</td>\n",
       "      <td> Acute/Chronic</td>\n",
       "      <td>                Alexandra Hospital</td>\n",
       "      <td>         Facilities used for hospital purposes</td>\n",
       "      <td>      29 Noxon Street</td>\n",
       "      <td>   Ingersoll</td>\n",
       "      <td> N5C3V6</td>\n",
       "      <td>  4660.700000</td>\n",
       "      <td> Square meters</td>\n",
       "      <td>...</td>\n",
       "      <td>  69.597090</td>\n",
       "      <td> 0</td>\n",
       "      <td> 43.030919</td>\n",
       "      <td>-80.876204</td>\n",
       "      <td> 72.084806</td>\n",
       "      <td> 25</td>\n",
       "      <td> 857</td>\n",
       "      <td>  74</td>\n",
       "      <td> 50167</td>\n",
       "      <td>  203</td>\n",
       "    </tr>\n",
       "    <tr>\n",
       "      <th>2</th>\n",
       "      <td> Alexandria Glengarry Memorial Hospital</td>\n",
       "      <td> Municipality</td>\n",
       "      <td>  Municipality</td>\n",
       "      <td>       Glengarry Memorial Hospital</td>\n",
       "      <td> Administrative offices and related facilities</td>\n",
       "      <td> 20260 County Road 43</td>\n",
       "      <td>  Alexandria</td>\n",
       "      <td> K0C1A0</td>\n",
       "      <td>  3953.000000</td>\n",
       "      <td>   Square feet</td>\n",
       "      <td>...</td>\n",
       "      <td>  79.691924</td>\n",
       "      <td> 0</td>\n",
       "      <td> 45.306925</td>\n",
       "      <td>-74.645664</td>\n",
       "      <td> 96.127248</td>\n",
       "      <td>  9</td>\n",
       "      <td> 939</td>\n",
       "      <td> 432</td>\n",
       "      <td>  3953</td>\n",
       "      <td>  694</td>\n",
       "    </tr>\n",
       "    <tr>\n",
       "      <th>3</th>\n",
       "      <td> Alexandria Glengarry Memorial Hospital</td>\n",
       "      <td>     Hospital</td>\n",
       "      <td> Acute/Chronic</td>\n",
       "      <td>       Glengarry Memorial Hospital</td>\n",
       "      <td>         Facilities used for hospital purposes</td>\n",
       "      <td> 20260 County Road 43</td>\n",
       "      <td>  Alexandria</td>\n",
       "      <td> K0C1A0</td>\n",
       "      <td> 51016.000000</td>\n",
       "      <td>   Square feet</td>\n",
       "      <td>...</td>\n",
       "      <td>  79.689235</td>\n",
       "      <td> 0</td>\n",
       "      <td> 45.306925</td>\n",
       "      <td>-74.645664</td>\n",
       "      <td> 83.392226</td>\n",
       "      <td> 25</td>\n",
       "      <td> 939</td>\n",
       "      <td> 432</td>\n",
       "      <td> 51016</td>\n",
       "      <td>  235</td>\n",
       "    </tr>\n",
       "    <tr>\n",
       "      <th>4</th>\n",
       "      <td>           Algoma District School Board</td>\n",
       "      <td> School Board</td>\n",
       "      <td>  School Board</td>\n",
       "      <td> Adult Ed - Blind River (WC Eaket)</td>\n",
       "      <td>                                       Schools</td>\n",
       "      <td>     147 Woodward Ave</td>\n",
       "      <td> Blind River</td>\n",
       "      <td> P0R1B0</td>\n",
       "      <td>  1128.811234</td>\n",
       "      <td>   Square feet</td>\n",
       "      <td>...</td>\n",
       "      <td> 266.361078</td>\n",
       "      <td> 0</td>\n",
       "      <td> 46.188374</td>\n",
       "      <td>-82.946619</td>\n",
       "      <td> 99.565397</td>\n",
       "      <td> 10</td>\n",
       "      <td> 782</td>\n",
       "      <td> 248</td>\n",
       "      <td>  1128</td>\n",
       "      <td> 4810</td>\n",
       "    </tr>\n",
       "  </tbody>\n",
       "</table>\n",
       "<p>5 rows × 47 columns</p>\n",
       "</div>"
      ],
      "text/plain": [
       "                             organization        sector      subsector  \\\n",
       "0                      Alexandra Hospital  Municipality   Municipality   \n",
       "1                      Alexandra Hospital      Hospital  Acute/Chronic   \n",
       "2  Alexandria Glengarry Memorial Hospital  Municipality   Municipality   \n",
       "3  Alexandria Glengarry Memorial Hospital      Hospital  Acute/Chronic   \n",
       "4            Algoma District School Board  School Board   School Board   \n",
       "\n",
       "                      operation_name  \\\n",
       "0                 Alexandra Hospital   \n",
       "1                 Alexandra Hospital   \n",
       "2        Glengarry Memorial Hospital   \n",
       "3        Glengarry Memorial Hospital   \n",
       "4  Adult Ed - Blind River (WC Eaket)   \n",
       "\n",
       "                                  operation_type               Address  \\\n",
       "0  Administrative offices and related facilities       29 Noxon Street   \n",
       "1          Facilities used for hospital purposes       29 Noxon Street   \n",
       "2  Administrative offices and related facilities  20260 County Road 43   \n",
       "3          Facilities used for hospital purposes  20260 County Road 43   \n",
       "4                                        Schools      147 Woodward Ave   \n",
       "\n",
       "          City     Zip  tot_floor_area floor_area_unit       ...        \\\n",
       "0    Ingersoll  N5C3V6     3813.300000   Square meters       ...         \n",
       "1    Ingersoll  N5C3V6     4660.700000   Square meters       ...         \n",
       "2   Alexandria  K0C1A0     3953.000000     Square feet       ...         \n",
       "3   Alexandria  K0C1A0    51016.000000     Square feet       ...         \n",
       "4  Blind River  P0R1B0     1128.811234     Square feet       ...         \n",
       "\n",
       "   en_intensity_ekWh_sqft  Energy Intensity ekWh_mega_litre        lat  \\\n",
       "0               69.597090                                 0  43.030919   \n",
       "1               69.597090                                 0  43.030919   \n",
       "2               79.691924                                 0  45.306925   \n",
       "3               79.689235                                 0  45.306925   \n",
       "4              266.361078                                 0  46.188374   \n",
       "\n",
       "         lng  en_intensity_ekWh_sqft_pct_rank dim_operation_type  dim_City  \\\n",
       "0 -80.876204                        94.467497                  9       857   \n",
       "1 -80.876204                        72.084806                 25       857   \n",
       "2 -74.645664                        96.127248                  9       939   \n",
       "3 -74.645664                        83.392226                 25       939   \n",
       "4 -82.946619                        99.565397                 10       782   \n",
       "\n",
       "  dim_organization  tot_floor_area_ft2 en_intensity_rank  \n",
       "0               74               41046               682  \n",
       "1               74               50167               203  \n",
       "2              432                3953               694  \n",
       "3              432               51016               235  \n",
       "4              248                1128              4810  \n",
       "\n",
       "[5 rows x 47 columns]"
      ]
     },
     "execution_count": 8,
     "metadata": {},
     "output_type": "execute_result"
    }
   ],
   "source": [
    "df_master_short.head()"
   ]
  },
  {
   "cell_type": "markdown",
   "metadata": {},
   "source": [
    "#### Get the mean column for df_dim_op_type"
   ]
  },
  {
   "cell_type": "code",
   "execution_count": 9,
   "metadata": {
    "collapsed": false
   },
   "outputs": [],
   "source": [
    "df_dim_op_type['mean_en_intensity_ekWh_sqft'] = pd.Series(index=df_dim_op_type.index)\n",
    "df_dim_op_type['median_en_intensity_ekWh_sqft'] = pd.Series(index=df_dim_op_type.index)\n",
    "df_dim_op_type['n_buildings'] = pd.Series(index=df_dim_op_type.index)\n",
    "\n",
    "for i in df_dim_op_type.index:\n",
    "    dim_op = df_dim_op_type.dim_operation_type[i]\n",
    "    mean_en = df_master_short.query(\"dim_operation_type == @dim_op\")['en_intensity_ekWh_sqft'].mean()\n",
    "    median_en = df_master_short.query(\"dim_operation_type == @dim_op\")['en_intensity_ekWh_sqft'].median()\n",
    "    n_buildings = len(list(df_master_short.query(\"dim_operation_type == @dim_op\")['en_intensity_ekWh_sqft']))\n",
    "    df_dim_op_type.ix[i, 'mean_en_intensity_ekWh_sqft'] = mean_en\n",
    "    df_dim_op_type.ix[i, 'median_en_intensity_ekWh_sqft'] = median_en\n",
    "    df_dim_op_type.ix[i, 'n_buildings'] = n_buildings"
   ]
  },
  {
   "cell_type": "markdown",
   "metadata": {},
   "source": [
    "#### Add numbers of buildings to the dim organization table "
   ]
  },
  {
   "cell_type": "code",
   "execution_count": 20,
   "metadata": {
    "collapsed": true
   },
   "outputs": [],
   "source": [
    "df_dim_organization['n_buildings'] = pd.Series(index=df_dim_organization.index)\n",
    "for i in df_dim_organization.index:\n",
    "    dim_org_id = df_dim_organization.dim_organization[i]\n",
    "    df_dim_organization.ix[i, 'n_buildings'] = len(df_master_short.query(\"dim_organization == @dim_org_id\"))"
   ]
  },
  {
   "cell_type": "code",
   "execution_count": 21,
   "metadata": {
    "collapsed": true
   },
   "outputs": [],
   "source": [
    "df_dim_organization['n_buildings'] = df_dim_organization['n_buildings'].astype(int)"
   ]
  },
  {
   "cell_type": "markdown",
   "metadata": {},
   "source": [
    "#### Then save the 4 dataframes I will need for the website: 3 dims and one shortened table without water/sewage treatment or other"
   ]
  },
  {
   "cell_type": "code",
   "execution_count": 10,
   "metadata": {
    "collapsed": false,
    "scrolled": true
   },
   "outputs": [
    {
     "data": {
      "text/plain": [
       "Index([u'organization', u'sector', u'subsector', u'operation_name', u'operation_type', u'Address', u'City', u'Zip', u'tot_floor_area', u'floor_area_unit', u'Average Hours per week', u'Annual Flow ', u'Electricity', u'Electricity Unit', u'Natural Gas', u'Natural Gas2', u'Fuel Oil 1 & 2', u'Fuel Oil 1 & 2 Unit', u'Fuel Oil 4 &6', u'Fuel Oil 4 &6 Unit', u'Propane', u'Propane Unit', u'Coal Quantity', u'Coal Unit', u'Wood', u'Wood3', u'District Heating', u'District Heating Unit', u'Renewable', u'Renewable Emission Factor', u'District Cooling', u'District Cooling Unit', u'District Cooling Renewable', u'District Cooling Renewable Emission Factor', u'Number of Portables', u'Swimming Pools', u'GHG Emissions KG', u'en_intensity_ekWh_sqft', u'Energy Intensity ekWh_mega_litre', u'lat', u'lng', u'en_intensity_ekWh_sqft_pct_rank', u'dim_operation_type', u'dim_City', u'dim_organization', u'tot_floor_area_ft2', u'en_intensity_rank'], dtype='object')"
      ]
     },
     "execution_count": 10,
     "metadata": {},
     "output_type": "execute_result"
    }
   ],
   "source": [
    "df_master_short.columns"
   ]
  },
  {
   "cell_type": "code",
   "execution_count": 11,
   "metadata": {
    "collapsed": false
   },
   "outputs": [],
   "source": [
    "cols_to_keep = ['dim_organization', 'dim_operation_type', 'operation_name', 'Address', \n",
    "                'dim_City', 'Zip', 'en_intensity_ekWh_sqft', \n",
    "                'lat', 'lng', 'tot_floor_area_ft2', 'en_intensity_rank', 'en_intensity_ekWh_sqft_pct_rank' ]"
   ]
  },
  {
   "cell_type": "code",
   "execution_count": 12,
   "metadata": {
    "collapsed": false
   },
   "outputs": [],
   "source": [
    "for col in df_master_short.columns:\n",
    "    if col not in cols_to_keep: del df_master_short[col]"
   ]
  },
  {
   "cell_type": "code",
   "execution_count": 22,
   "metadata": {
    "collapsed": false
   },
   "outputs": [],
   "source": [
    "df_master_short.to_csv(data_path + \"master_short.csv\")\n",
    "df_dim_city.to_csv(data_path + \"dim_city.csv\")\n",
    "df_dim_organization.to_csv(data_path + \"dim_organization.csv\")\n",
    "df_dim_op_type.to_csv(data_path + \"dim_operation_type.csv\")"
   ]
  },
  {
   "cell_type": "markdown",
   "metadata": {
    "collapsed": false
   },
   "source": [
    "#### Add rank columns to df_master_short "
   ]
  },
  {
   "cell_type": "markdown",
   "metadata": {},
   "source": [
    "#### Save point "
   ]
  },
  {
   "cell_type": "code",
   "execution_count": 14,
   "metadata": {
    "collapsed": true
   },
   "outputs": [],
   "source": [
    "df_master_short = pd.DataFrame.from_csv(data_path + \"master_short.csv\")\n",
    "del df_master_short['en_intensity_ekWh_sqft_pct_rank']\n",
    "del df_master_short['en_intensity_rank']\n",
    "df_master_short.to_csv(data_path + \"master_short_no_ranks.csv\")"
   ]
  },
  {
   "cell_type": "code",
   "execution_count": 15,
   "metadata": {
    "collapsed": true
   },
   "outputs": [],
   "source": [
    "def create_rank_col(df, dim_col, new_col):\n",
    "    df[new_col] = pd.Series(index=df.index)\n",
    "    for i in df.index[:]:\n",
    "        en_intensity = df.en_intensity_ekWh_sqft[i]\n",
    "        dim_num = df[dim_col][i]\n",
    "        peer_en_intensities = df.query(dim_col + \" == @dim_num\").en_intensity_ekWh_sqft\n",
    "        seq = sorted(peer_en_intensities)\n",
    "        rank = seq.index(en_intensity) + 1\n",
    "        df.ix[i, new_col] = rank\n",
    "    return df"
   ]
  },
  {
   "cell_type": "code",
   "execution_count": 16,
   "metadata": {
    "collapsed": true
   },
   "outputs": [],
   "source": [
    "# long!!\n",
    "df_master_short = create_rank_col(df_master_short, 'dim_organization', 'org_rank')\n",
    "df_master_short = create_rank_col(df_master_short, 'dim_operation_type', 'op_type_rank')\n",
    "df_master_short = create_rank_col(df_master_short, 'dim_City', 'city_rank')\n",
    "df_master_short[['org_rank', 'op_type_rank', 'city_rank']] = df_master_short[['org_rank', 'op_type_rank', 'city_rank']].astype(int)\n",
    "df_master_short.index.name = 'index'"
   ]
  },
  {
   "cell_type": "code",
   "execution_count": 17,
   "metadata": {
    "collapsed": true
   },
   "outputs": [],
   "source": [
    "df_master_short.to_csv(data_path + \"master_final.csv\")"
   ]
  },
  {
   "cell_type": "code",
   "execution_count": null,
   "metadata": {
    "collapsed": true
   },
   "outputs": [],
   "source": []
  }
 ],
 "metadata": {
  "kernelspec": {
   "display_name": "Python 2",
   "language": "python",
   "name": "python2"
  },
  "language_info": {
   "codemirror_mode": {
    "name": "ipython",
    "version": 2
   },
   "file_extension": ".py",
   "mimetype": "text/x-python",
   "name": "python",
   "nbconvert_exporter": "python",
   "pygments_lexer": "ipython2",
   "version": "2.7.10"
  }
 },
 "nbformat": 4,
 "nbformat_minor": 0
}
