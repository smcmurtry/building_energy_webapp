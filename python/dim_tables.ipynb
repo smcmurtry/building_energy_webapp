{
 "metadata": {
  "name": "",
  "signature": "sha256:60aa5d6a32a7111e8b0f73c8f935dcf38ae5bdcb945162961435b5f656032b01"
 },
 "nbformat": 3,
 "nbformat_minor": 0,
 "worksheets": [
  {
   "cells": [
    {
     "cell_type": "code",
     "collapsed": false,
     "input": [
      "import pandas as pd\n",
      "import numpy as np"
     ],
     "language": "python",
     "metadata": {},
     "outputs": [],
     "prompt_number": 1
    },
    {
     "cell_type": "heading",
     "level": 4,
     "metadata": {},
     "source": [
      "First import the original data table and append the new lat lng columns, and the percentile rank column"
     ]
    },
    {
     "cell_type": "code",
     "collapsed": false,
     "input": [
      "df_master = pd.DataFrame.from_csv(\"data_2/cleaned_2012_not_normalized.csv\")"
     ],
     "language": "python",
     "metadata": {},
     "outputs": [],
     "prompt_number": 2
    },
    {
     "cell_type": "code",
     "collapsed": false,
     "input": [
      "df_w_coords = pd.DataFrame.from_csv(\"data_2/short_df_with_coords_backup.csv\")"
     ],
     "language": "python",
     "metadata": {},
     "outputs": [],
     "prompt_number": 3
    },
    {
     "cell_type": "code",
     "collapsed": false,
     "input": [
      "df_master.columns"
     ],
     "language": "python",
     "metadata": {},
     "outputs": [
      {
       "metadata": {},
       "output_type": "pyout",
       "prompt_number": 4,
       "text": [
        "Index([u'organization', u'sector', u'subsector', u'operation_name', u'operation_type', u'Address', u'City', u'Zip', u'tot_floor_area', u'floor_area_unit', u'Average Hours per week', u'Annual Flow ', u'Electricity', u'Electricity Unit', u'Natural Gas', u'Natural Gas2', u'Fuel Oil 1 & 2', u'Fuel Oil 1 & 2 Unit', u'Fuel Oil 4 &6', u'Fuel Oil 4 &6 Unit', u'Propane', u'Propane Unit', u'Coal Quantity', u'Coal Unit', u'Wood', u'Wood3', u'District Heating', u'District Heating Unit', u'Renewable', u'Renewable Emission Factor', u'District Cooling', u'District Cooling Unit', u'District Cooling Renewable', u'District Cooling Renewable Emission Factor', u'Number of Portables', u'Swimming Pools', u'GHG Emissions KG', u'en_intensity_ekWh_sqft', u'Energy Intensity ekWh_mega_litre'], dtype='object')"
       ]
      }
     ],
     "prompt_number": 4
    },
    {
     "cell_type": "code",
     "collapsed": false,
     "input": [
      "set(df_master.floor_area_unit)"
     ],
     "language": "python",
     "metadata": {},
     "outputs": [
      {
       "metadata": {},
       "output_type": "pyout",
       "prompt_number": 32,
       "text": [
        "{nan,\n",
        " 'Square feet',\n",
        " 'Square meters',\n",
        " 'm\\xc3\\xa8tres carr\\xc3\\xa9s',\n",
        " 'pieds carr\\xc3\\xa9s'}"
       ]
      }
     ],
     "prompt_number": 32
    },
    {
     "cell_type": "markdown",
     "metadata": {},
     "source": [
      "Long!"
     ]
    },
    {
     "cell_type": "code",
     "collapsed": false,
     "input": [
      "df_master['tot_floor_area_ft2'] = pd.Series(index=df_master.index)\n",
      "\n",
      "for i in df_master.index[:]:\n",
      "    if df_master.floor_area_unit[i] in ('Square feet', 'pieds carr\\xc3\\xa9s'):\n",
      "        df_master.ix[i, 'tot_floor_area_ft2'] = int(df_master.tot_floor_area[i])\n",
      "    elif df_master.floor_area_unit[i] in ('Square meters', 'm\\xc3\\xa8tres carr\\xc3\\xa9s'):\n",
      "        df_master.ix[i, 'tot_floor_area_ft2'] = int(df_master.tot_floor_area[i]*(3.28084**2))"
     ],
     "language": "python",
     "metadata": {},
     "outputs": [],
     "prompt_number": 44
    },
    {
     "cell_type": "markdown",
     "metadata": {},
     "source": [
      "Long!"
     ]
    },
    {
     "cell_type": "code",
     "collapsed": false,
     "input": [
      "df_master['en_intensity_rank'] = pd.Series(index=df_master.index)\n",
      "\n",
      "for i in df_master.index[:]:\n",
      "    en_intensity = df_master.en_intensity_ekWh_sqft[i]\n",
      "    op_type = df_master.operation_type[i]\n",
      "    peer_en_intensities = df_master.query(\"operation_type == @op_type\").en_intensity_ekWh_sqft\n",
      "    seq = sorted(peer_en_intensities)\n",
      "    rank = seq.index(en_intensity)\n",
      "    df_master.ix[i, 'en_intensity_rank'] = rank"
     ],
     "language": "python",
     "metadata": {},
     "outputs": [],
     "prompt_number": 57
    },
    {
     "cell_type": "code",
     "collapsed": false,
     "input": [
      "print len(df_master), len(df_w_coords)"
     ],
     "language": "python",
     "metadata": {},
     "outputs": [
      {
       "output_type": "stream",
       "stream": "stdout",
       "text": [
        "17978 17978\n"
       ]
      }
     ],
     "prompt_number": 5
    },
    {
     "cell_type": "code",
     "collapsed": false,
     "input": [
      "df_master['lat'] = df_w_coords['lat']"
     ],
     "language": "python",
     "metadata": {},
     "outputs": [],
     "prompt_number": 6
    },
    {
     "cell_type": "code",
     "collapsed": false,
     "input": [
      "df_master['lng'] = df_w_coords['long']"
     ],
     "language": "python",
     "metadata": {},
     "outputs": [],
     "prompt_number": 7
    },
    {
     "cell_type": "code",
     "collapsed": false,
     "input": [
      "df_master['en_intensity_ekWh_sqft_pct_rank'] = df_w_coords.en_intensity_ekWh_sqft_pct_rank"
     ],
     "language": "python",
     "metadata": {},
     "outputs": [],
     "prompt_number": 8
    },
    {
     "cell_type": "code",
     "collapsed": false,
     "input": [
      "df_master.to_csv(\"data_2/master.csv\")"
     ],
     "language": "python",
     "metadata": {},
     "outputs": [],
     "prompt_number": 67
    },
    {
     "cell_type": "heading",
     "level": 4,
     "metadata": {},
     "source": [
      "Then create dim columns for operation_type, City and organization"
     ]
    },
    {
     "cell_type": "markdown",
     "metadata": {},
     "source": [
      "Then create dataframes for each of the dim columns, where the index is the dim number"
     ]
    },
    {
     "cell_type": "code",
     "collapsed": false,
     "input": [
      "def create_dim_dict(df, column_name):\n",
      "    dim_dict = {t:n for n, t in enumerate(list(set(df[column_name])))}\n",
      "    df['dim_' + column_name] = [dim_dict[df[column_name][i]] for i in df.index]\n",
      "    dim_df = pd.DataFrame(columns=['dim_' + column_name, column_name], index=range(len(dim_dict)))\n",
      "    i = 0\n",
      "    for dim_name in dim_dict:\n",
      "        dim_df.ix[i, column_name] = dim_name\n",
      "        dim_df.ix[i, 'dim_' + column_name] = dim_dict[dim_name]\n",
      "        i += 1\n",
      "    return df, dim_df"
     ],
     "language": "python",
     "metadata": {},
     "outputs": [],
     "prompt_number": 10
    },
    {
     "cell_type": "code",
     "collapsed": false,
     "input": [
      "df_master, df_dim_op_type = create_dim_dict(df_master, 'operation_type')\n",
      "df_master, df_dim_city = create_dim_dict(df_master, 'City')\n",
      "df_master, df_dim_organization = create_dim_dict(df_master, 'organization')"
     ],
     "language": "python",
     "metadata": {},
     "outputs": [],
     "prompt_number": 11
    },
    {
     "cell_type": "code",
     "collapsed": false,
     "input": [
      "df_dim_op_type"
     ],
     "language": "python",
     "metadata": {},
     "outputs": [
      {
       "html": [
        "<div style=\"max-height:1000px;max-width:1500px;overflow:auto;\">\n",
        "<table border=\"1\" class=\"dataframe\">\n",
        "  <thead>\n",
        "    <tr style=\"text-align: right;\">\n",
        "      <th></th>\n",
        "      <th>dim_operation_type</th>\n",
        "      <th>operation_type</th>\n",
        "      <th>mean_en_intensity_ekWh_sqft</th>\n",
        "      <th>n_buildings</th>\n",
        "    </tr>\n",
        "  </thead>\n",
        "  <tbody>\n",
        "    <tr>\n",
        "      <th>0 </th>\n",
        "      <td> 25</td>\n",
        "      <td> Police stations and associated offices and fac...</td>\n",
        "      <td>   37.268736</td>\n",
        "      <td>  219</td>\n",
        "    </tr>\n",
        "    <tr>\n",
        "      <th>1 </th>\n",
        "      <td>  0</td>\n",
        "      <td>       Facilities related to the pumping of sewage</td>\n",
        "      <td> 2204.812380</td>\n",
        "      <td> 1246</td>\n",
        "    </tr>\n",
        "    <tr>\n",
        "      <th>2 </th>\n",
        "      <td>  1</td>\n",
        "      <td>                                    Parking garage</td>\n",
        "      <td>    4.407854</td>\n",
        "      <td>    5</td>\n",
        "    </tr>\n",
        "    <tr>\n",
        "      <th>3 </th>\n",
        "      <td>  2</td>\n",
        "      <td>                                  Public libraries</td>\n",
        "      <td>   24.588200</td>\n",
        "      <td>  589</td>\n",
        "    </tr>\n",
        "    <tr>\n",
        "      <th>4 </th>\n",
        "      <td>  3</td>\n",
        "      <td>     Facilities related to the treatment of sewage</td>\n",
        "      <td> 1892.264653</td>\n",
        "      <td>  359</td>\n",
        "    </tr>\n",
        "    <tr>\n",
        "      <th>5 </th>\n",
        "      <td>  4</td>\n",
        "      <td> Student recreational facilities and athletic f...</td>\n",
        "      <td>   37.329631</td>\n",
        "      <td>   73</td>\n",
        "    </tr>\n",
        "    <tr>\n",
        "      <th>6 </th>\n",
        "      <td>  5</td>\n",
        "      <td>                                             Other</td>\n",
        "      <td> 1165.351713</td>\n",
        "      <td>  675</td>\n",
        "    </tr>\n",
        "    <tr>\n",
        "      <th>7 </th>\n",
        "      <td>  6</td>\n",
        "      <td>                 Classrooms and related facilities</td>\n",
        "      <td>   33.467235</td>\n",
        "      <td>  300</td>\n",
        "    </tr>\n",
        "    <tr>\n",
        "      <th>8 </th>\n",
        "      <td>  7</td>\n",
        "      <td> Gyms and indoor courts for playing tennis, bas...</td>\n",
        "      <td>   36.692412</td>\n",
        "      <td>   87</td>\n",
        "    </tr>\n",
        "    <tr>\n",
        "      <th>9 </th>\n",
        "      <td>  8</td>\n",
        "      <td>                                 Community centres</td>\n",
        "      <td>   26.158035</td>\n",
        "      <td> 1137</td>\n",
        "    </tr>\n",
        "    <tr>\n",
        "      <th>10</th>\n",
        "      <td>  9</td>\n",
        "      <td>                                   Parking garages</td>\n",
        "      <td> 8059.689261</td>\n",
        "      <td>   57</td>\n",
        "    </tr>\n",
        "    <tr>\n",
        "      <th>11</th>\n",
        "      <td> 10</td>\n",
        "      <td> Storage facilities where equipment or vehicles...</td>\n",
        "      <td>   34.370242</td>\n",
        "      <td> 1304</td>\n",
        "    </tr>\n",
        "    <tr>\n",
        "      <th>12</th>\n",
        "      <td> 16</td>\n",
        "      <td>                                  Indoor ice rinks</td>\n",
        "      <td>   33.247332</td>\n",
        "      <td>  394</td>\n",
        "    </tr>\n",
        "    <tr>\n",
        "      <th>13</th>\n",
        "      <td> 12</td>\n",
        "      <td>     Administrative offices and related facilities</td>\n",
        "      <td>   35.190436</td>\n",
        "      <td>  723</td>\n",
        "    </tr>\n",
        "    <tr>\n",
        "      <th>14</th>\n",
        "      <td> 13</td>\n",
        "      <td>                                           Schools</td>\n",
        "      <td>   30.966223</td>\n",
        "      <td> 4832</td>\n",
        "    </tr>\n",
        "    <tr>\n",
        "      <th>15</th>\n",
        "      <td> 14</td>\n",
        "      <td>                                     Art galleries</td>\n",
        "      <td>   35.638522</td>\n",
        "      <td>   30</td>\n",
        "    </tr>\n",
        "    <tr>\n",
        "      <th>16</th>\n",
        "      <td> 15</td>\n",
        "      <td>                              Indoor sports arenas</td>\n",
        "      <td>   32.334745</td>\n",
        "      <td>  105</td>\n",
        "    </tr>\n",
        "    <tr>\n",
        "      <th>17</th>\n",
        "      <td> 17</td>\n",
        "      <td>                             Indoor swimming pools</td>\n",
        "      <td>   91.638115</td>\n",
        "      <td>  135</td>\n",
        "    </tr>\n",
        "    <tr>\n",
        "      <th>18</th>\n",
        "      <td> 18</td>\n",
        "      <td>                                Student residences</td>\n",
        "      <td>   25.592470</td>\n",
        "      <td>   75</td>\n",
        "    </tr>\n",
        "    <tr>\n",
        "      <th>19</th>\n",
        "      <td> 19</td>\n",
        "      <td>                                       Auditoriums</td>\n",
        "      <td>   27.243691</td>\n",
        "      <td>   21</td>\n",
        "    </tr>\n",
        "    <tr>\n",
        "      <th>20</th>\n",
        "      <td> 20</td>\n",
        "      <td>        Facilities related to the pumping of water</td>\n",
        "      <td>  215.373450</td>\n",
        "      <td>  990</td>\n",
        "    </tr>\n",
        "    <tr>\n",
        "      <th>21</th>\n",
        "      <td> 21</td>\n",
        "      <td> Administrative offices and related facilities,...</td>\n",
        "      <td>   77.928544</td>\n",
        "      <td> 1299</td>\n",
        "    </tr>\n",
        "    <tr>\n",
        "      <th>22</th>\n",
        "      <td> 22</td>\n",
        "      <td>                    Indoor recreational facilities</td>\n",
        "      <td>   90.066890</td>\n",
        "      <td>  378</td>\n",
        "    </tr>\n",
        "    <tr>\n",
        "      <th>23</th>\n",
        "      <td> 23</td>\n",
        "      <td>      Facilities related to the treatment of water</td>\n",
        "      <td>  345.728007</td>\n",
        "      <td>  385</td>\n",
        "    </tr>\n",
        "    <tr>\n",
        "      <th>24</th>\n",
        "      <td> 24</td>\n",
        "      <td>                                      Laboratories</td>\n",
        "      <td>   38.788424</td>\n",
        "      <td>  175</td>\n",
        "    </tr>\n",
        "    <tr>\n",
        "      <th>25</th>\n",
        "      <td> 11</td>\n",
        "      <td>                        Performing arts facilities</td>\n",
        "      <td>   27.281776</td>\n",
        "      <td>   45</td>\n",
        "    </tr>\n",
        "    <tr>\n",
        "      <th>26</th>\n",
        "      <td> 26</td>\n",
        "      <td>                               Cultural facilities</td>\n",
        "      <td>   25.683409</td>\n",
        "      <td>  571</td>\n",
        "    </tr>\n",
        "    <tr>\n",
        "      <th>27</th>\n",
        "      <td> 27</td>\n",
        "      <td> Ambulance stations and associated offices and ...</td>\n",
        "      <td>   29.480126</td>\n",
        "      <td>  281</td>\n",
        "    </tr>\n",
        "    <tr>\n",
        "      <th>28</th>\n",
        "      <td> 28</td>\n",
        "      <td>                                           Library</td>\n",
        "      <td>   27.072764</td>\n",
        "      <td>   82</td>\n",
        "    </tr>\n",
        "    <tr>\n",
        "      <th>29</th>\n",
        "      <td> 29</td>\n",
        "      <td> Fire stations and associated offices and facil...</td>\n",
        "      <td>  391.124311</td>\n",
        "      <td> 1123</td>\n",
        "    </tr>\n",
        "    <tr>\n",
        "      <th>30</th>\n",
        "      <td> 30</td>\n",
        "      <td>             Facilities used for hospital purposes</td>\n",
        "      <td>   60.201819</td>\n",
        "      <td>  283</td>\n",
        "    </tr>\n",
        "  </tbody>\n",
        "</table>\n",
        "</div>"
       ],
       "metadata": {},
       "output_type": "pyout",
       "prompt_number": 56,
       "text": [
        "   dim_operation_type                                     operation_type  \\\n",
        "0                  25  Police stations and associated offices and fac...   \n",
        "1                   0        Facilities related to the pumping of sewage   \n",
        "2                   1                                     Parking garage   \n",
        "3                   2                                   Public libraries   \n",
        "4                   3      Facilities related to the treatment of sewage   \n",
        "5                   4  Student recreational facilities and athletic f...   \n",
        "6                   5                                              Other   \n",
        "7                   6                  Classrooms and related facilities   \n",
        "8                   7  Gyms and indoor courts for playing tennis, bas...   \n",
        "9                   8                                  Community centres   \n",
        "10                  9                                    Parking garages   \n",
        "11                 10  Storage facilities where equipment or vehicles...   \n",
        "12                 16                                   Indoor ice rinks   \n",
        "13                 12      Administrative offices and related facilities   \n",
        "14                 13                                            Schools   \n",
        "15                 14                                      Art galleries   \n",
        "16                 15                               Indoor sports arenas   \n",
        "17                 17                              Indoor swimming pools   \n",
        "18                 18                                 Student residences   \n",
        "19                 19                                        Auditoriums   \n",
        "20                 20         Facilities related to the pumping of water   \n",
        "21                 21  Administrative offices and related facilities,...   \n",
        "22                 22                     Indoor recreational facilities   \n",
        "23                 23       Facilities related to the treatment of water   \n",
        "24                 24                                       Laboratories   \n",
        "25                 11                         Performing arts facilities   \n",
        "26                 26                                Cultural facilities   \n",
        "27                 27  Ambulance stations and associated offices and ...   \n",
        "28                 28                                            Library   \n",
        "29                 29  Fire stations and associated offices and facil...   \n",
        "30                 30              Facilities used for hospital purposes   \n",
        "\n",
        "    mean_en_intensity_ekWh_sqft  n_buildings  \n",
        "0                     37.268736          219  \n",
        "1                   2204.812380         1246  \n",
        "2                      4.407854            5  \n",
        "3                     24.588200          589  \n",
        "4                   1892.264653          359  \n",
        "5                     37.329631           73  \n",
        "6                   1165.351713          675  \n",
        "7                     33.467235          300  \n",
        "8                     36.692412           87  \n",
        "9                     26.158035         1137  \n",
        "10                  8059.689261           57  \n",
        "11                    34.370242         1304  \n",
        "12                    33.247332          394  \n",
        "13                    35.190436          723  \n",
        "14                    30.966223         4832  \n",
        "15                    35.638522           30  \n",
        "16                    32.334745          105  \n",
        "17                    91.638115          135  \n",
        "18                    25.592470           75  \n",
        "19                    27.243691           21  \n",
        "20                   215.373450          990  \n",
        "21                    77.928544         1299  \n",
        "22                    90.066890          378  \n",
        "23                   345.728007          385  \n",
        "24                    38.788424          175  \n",
        "25                    27.281776           45  \n",
        "26                    25.683409          571  \n",
        "27                    29.480126          281  \n",
        "28                    27.072764           82  \n",
        "29                   391.124311         1123  \n",
        "30                    60.201819          283  "
       ]
      }
     ],
     "prompt_number": 56
    },
    {
     "cell_type": "code",
     "collapsed": false,
     "input": [
      "df_master.head()"
     ],
     "language": "python",
     "metadata": {},
     "outputs": [
      {
       "html": [
        "<div style=\"max-height:1000px;max-width:1500px;overflow:auto;\">\n",
        "<table border=\"1\" class=\"dataframe\">\n",
        "  <thead>\n",
        "    <tr style=\"text-align: right;\">\n",
        "      <th></th>\n",
        "      <th>organization</th>\n",
        "      <th>sector</th>\n",
        "      <th>subsector</th>\n",
        "      <th>operation_name</th>\n",
        "      <th>operation_type</th>\n",
        "      <th>Address</th>\n",
        "      <th>City</th>\n",
        "      <th>Zip</th>\n",
        "      <th>tot_floor_area</th>\n",
        "      <th>floor_area_unit</th>\n",
        "      <th>...</th>\n",
        "      <th>en_intensity_ekWh_sqft</th>\n",
        "      <th>Energy Intensity ekWh_mega_litre</th>\n",
        "      <th>lat</th>\n",
        "      <th>lng</th>\n",
        "      <th>en_intensity_ekWh_sqft_pct_rank</th>\n",
        "      <th>dim_operation_type</th>\n",
        "      <th>dim_City</th>\n",
        "      <th>dim_organization</th>\n",
        "      <th>tot_floor_area_ft2</th>\n",
        "      <th>en_intensity_rank</th>\n",
        "    </tr>\n",
        "  </thead>\n",
        "  <tbody>\n",
        "    <tr>\n",
        "      <th>0</th>\n",
        "      <td>                     Alexandra Hospital</td>\n",
        "      <td> Municipality</td>\n",
        "      <td>  Municipality</td>\n",
        "      <td>                Alexandra Hospital</td>\n",
        "      <td> Administrative offices and related facilities</td>\n",
        "      <td>      29 Noxon Street</td>\n",
        "      <td>   Ingersoll</td>\n",
        "      <td> N5C3V6</td>\n",
        "      <td>  3813.300000</td>\n",
        "      <td> Square meters</td>\n",
        "      <td>...</td>\n",
        "      <td>  69.597090</td>\n",
        "      <td> 0</td>\n",
        "      <td> 43.030919</td>\n",
        "      <td>-80.876204</td>\n",
        "      <td> 94.467497</td>\n",
        "      <td> 12</td>\n",
        "      <td>  915</td>\n",
        "      <td>  75</td>\n",
        "      <td> 41046</td>\n",
        "      <td>  682</td>\n",
        "    </tr>\n",
        "    <tr>\n",
        "      <th>1</th>\n",
        "      <td>                     Alexandra Hospital</td>\n",
        "      <td>     Hospital</td>\n",
        "      <td> Acute/Chronic</td>\n",
        "      <td>                Alexandra Hospital</td>\n",
        "      <td>         Facilities used for hospital purposes</td>\n",
        "      <td>      29 Noxon Street</td>\n",
        "      <td>   Ingersoll</td>\n",
        "      <td> N5C3V6</td>\n",
        "      <td>  4660.700000</td>\n",
        "      <td> Square meters</td>\n",
        "      <td>...</td>\n",
        "      <td>  69.597090</td>\n",
        "      <td> 0</td>\n",
        "      <td> 43.030919</td>\n",
        "      <td>-80.876204</td>\n",
        "      <td> 72.084806</td>\n",
        "      <td> 30</td>\n",
        "      <td>  915</td>\n",
        "      <td>  75</td>\n",
        "      <td> 50167</td>\n",
        "      <td>  203</td>\n",
        "    </tr>\n",
        "    <tr>\n",
        "      <th>2</th>\n",
        "      <td> Alexandria Glengarry Memorial Hospital</td>\n",
        "      <td> Municipality</td>\n",
        "      <td>  Municipality</td>\n",
        "      <td>       Glengarry Memorial Hospital</td>\n",
        "      <td> Administrative offices and related facilities</td>\n",
        "      <td> 20260 County Road 43</td>\n",
        "      <td>  Alexandria</td>\n",
        "      <td> K0C1A0</td>\n",
        "      <td>  3953.000000</td>\n",
        "      <td>   Square feet</td>\n",
        "      <td>...</td>\n",
        "      <td>  79.691924</td>\n",
        "      <td> 0</td>\n",
        "      <td> 45.306925</td>\n",
        "      <td>-74.645664</td>\n",
        "      <td> 96.127248</td>\n",
        "      <td> 12</td>\n",
        "      <td> 1001</td>\n",
        "      <td> 439</td>\n",
        "      <td>  3953</td>\n",
        "      <td>  694</td>\n",
        "    </tr>\n",
        "    <tr>\n",
        "      <th>3</th>\n",
        "      <td> Alexandria Glengarry Memorial Hospital</td>\n",
        "      <td>     Hospital</td>\n",
        "      <td> Acute/Chronic</td>\n",
        "      <td>       Glengarry Memorial Hospital</td>\n",
        "      <td>         Facilities used for hospital purposes</td>\n",
        "      <td> 20260 County Road 43</td>\n",
        "      <td>  Alexandria</td>\n",
        "      <td> K0C1A0</td>\n",
        "      <td> 51016.000000</td>\n",
        "      <td>   Square feet</td>\n",
        "      <td>...</td>\n",
        "      <td>  79.689235</td>\n",
        "      <td> 0</td>\n",
        "      <td> 45.306925</td>\n",
        "      <td>-74.645664</td>\n",
        "      <td> 83.392226</td>\n",
        "      <td> 30</td>\n",
        "      <td> 1001</td>\n",
        "      <td> 439</td>\n",
        "      <td> 51016</td>\n",
        "      <td>  235</td>\n",
        "    </tr>\n",
        "    <tr>\n",
        "      <th>4</th>\n",
        "      <td>           Algoma District School Board</td>\n",
        "      <td> School Board</td>\n",
        "      <td>  School Board</td>\n",
        "      <td> Adult Ed - Blind River (WC Eaket)</td>\n",
        "      <td>                                       Schools</td>\n",
        "      <td>     147 Woodward Ave</td>\n",
        "      <td> Blind River</td>\n",
        "      <td> P0R1B0</td>\n",
        "      <td>  1128.811234</td>\n",
        "      <td>   Square feet</td>\n",
        "      <td>...</td>\n",
        "      <td> 266.361078</td>\n",
        "      <td> 0</td>\n",
        "      <td> 46.188374</td>\n",
        "      <td>-82.946619</td>\n",
        "      <td> 99.565397</td>\n",
        "      <td> 13</td>\n",
        "      <td>  836</td>\n",
        "      <td> 252</td>\n",
        "      <td>  1128</td>\n",
        "      <td> 4810</td>\n",
        "    </tr>\n",
        "  </tbody>\n",
        "</table>\n",
        "<p>5 rows \u00d7 47 columns</p>\n",
        "</div>"
       ],
       "metadata": {},
       "output_type": "pyout",
       "prompt_number": 66,
       "text": [
        "                             organization        sector      subsector  \\\n",
        "0                      Alexandra Hospital  Municipality   Municipality   \n",
        "1                      Alexandra Hospital      Hospital  Acute/Chronic   \n",
        "2  Alexandria Glengarry Memorial Hospital  Municipality   Municipality   \n",
        "3  Alexandria Glengarry Memorial Hospital      Hospital  Acute/Chronic   \n",
        "4            Algoma District School Board  School Board   School Board   \n",
        "\n",
        "                      operation_name  \\\n",
        "0                 Alexandra Hospital   \n",
        "1                 Alexandra Hospital   \n",
        "2        Glengarry Memorial Hospital   \n",
        "3        Glengarry Memorial Hospital   \n",
        "4  Adult Ed - Blind River (WC Eaket)   \n",
        "\n",
        "                                  operation_type               Address  \\\n",
        "0  Administrative offices and related facilities       29 Noxon Street   \n",
        "1          Facilities used for hospital purposes       29 Noxon Street   \n",
        "2  Administrative offices and related facilities  20260 County Road 43   \n",
        "3          Facilities used for hospital purposes  20260 County Road 43   \n",
        "4                                        Schools      147 Woodward Ave   \n",
        "\n",
        "          City     Zip  tot_floor_area floor_area_unit       ...        \\\n",
        "0    Ingersoll  N5C3V6     3813.300000   Square meters       ...         \n",
        "1    Ingersoll  N5C3V6     4660.700000   Square meters       ...         \n",
        "2   Alexandria  K0C1A0     3953.000000     Square feet       ...         \n",
        "3   Alexandria  K0C1A0    51016.000000     Square feet       ...         \n",
        "4  Blind River  P0R1B0     1128.811234     Square feet       ...         \n",
        "\n",
        "   en_intensity_ekWh_sqft  Energy Intensity ekWh_mega_litre        lat  \\\n",
        "0               69.597090                                 0  43.030919   \n",
        "1               69.597090                                 0  43.030919   \n",
        "2               79.691924                                 0  45.306925   \n",
        "3               79.689235                                 0  45.306925   \n",
        "4              266.361078                                 0  46.188374   \n",
        "\n",
        "         lng  en_intensity_ekWh_sqft_pct_rank dim_operation_type  dim_City  \\\n",
        "0 -80.876204                        94.467497                 12       915   \n",
        "1 -80.876204                        72.084806                 30       915   \n",
        "2 -74.645664                        96.127248                 12      1001   \n",
        "3 -74.645664                        83.392226                 30      1001   \n",
        "4 -82.946619                        99.565397                 13       836   \n",
        "\n",
        "  dim_organization  tot_floor_area_ft2 en_intensity_rank  \n",
        "0               75               41046               682  \n",
        "1               75               50167               203  \n",
        "2              439                3953               694  \n",
        "3              439               51016               235  \n",
        "4              252                1128              4810  \n",
        "\n",
        "[5 rows x 47 columns]"
       ]
      }
     ],
     "prompt_number": 66
    },
    {
     "cell_type": "heading",
     "level": 4,
     "metadata": {},
     "source": [
      "Get the mean column for df_dim_op_type"
     ]
    },
    {
     "cell_type": "code",
     "collapsed": false,
     "input": [
      "df_dim_op_type['mean_en_intensity_ekWh_sqft'] = pd.Series(index=df_dim_op_type.index)\n",
      "df_dim_op_type['median_en_intensity_ekWh_sqft'] = pd.Series(index=df_dim_op_type.index)\n",
      "df_dim_op_type['n_buildings'] = pd.Series(index=df_dim_op_type.index)\n",
      "\n",
      "for i in df_dim_op_type.index:\n",
      "    dim_op = df_dim_op_type.dim_operation_type[i]\n",
      "    mean_en = df_master.query(\"dim_operation_type == @dim_op\")['en_intensity_ekWh_sqft'].mean()\n",
      "    median_en = df_master.query(\"dim_operation_type == @dim_op\")['en_intensity_ekWh_sqft'].median()\n",
      "    n_buildings = len(list(df_master.query(\"dim_operation_type == @dim_op\")['en_intensity_ekWh_sqft']))\n",
      "    df_dim_op_type.ix[i, 'mean_en_intensity_ekWh_sqft'] = mean_en\n",
      "    df_dim_op_type.ix[i, 'median_en_intensity_ekWh_sqft'] = median_en\n",
      "    df_dim_op_type.ix[i, 'n_buildings'] = n_buildings"
     ],
     "language": "python",
     "metadata": {},
     "outputs": [],
     "prompt_number": 74
    },
    {
     "cell_type": "heading",
     "level": 4,
     "metadata": {},
     "source": [
      "Then save the 4 dataframes I will need for the website: 3 dims and one shortened table without water/sewage treatment or other"
     ]
    },
    {
     "cell_type": "code",
     "collapsed": false,
     "input": [
      "df_master_short = df_master.query(\"dim_operation_type not in (0, 3, 5, 20, 23)\").copy()"
     ],
     "language": "python",
     "metadata": {},
     "outputs": [],
     "prompt_number": 68
    },
    {
     "cell_type": "code",
     "collapsed": false,
     "input": [
      "df_master.columns"
     ],
     "language": "python",
     "metadata": {},
     "outputs": [
      {
       "metadata": {},
       "output_type": "pyout",
       "prompt_number": 69,
       "text": [
        "Index([u'organization', u'sector', u'subsector', u'operation_name', u'operation_type', u'Address', u'City', u'Zip', u'tot_floor_area', u'floor_area_unit', u'Average Hours per week', u'Annual Flow ', u'Electricity', u'Electricity Unit', u'Natural Gas', u'Natural Gas2', u'Fuel Oil 1 & 2', u'Fuel Oil 1 & 2 Unit', u'Fuel Oil 4 &6', u'Fuel Oil 4 &6 Unit', u'Propane', u'Propane Unit', u'Coal Quantity', u'Coal Unit', u'Wood', u'Wood3', u'District Heating', u'District Heating Unit', u'Renewable', u'Renewable Emission Factor', u'District Cooling', u'District Cooling Unit', u'District Cooling Renewable', u'District Cooling Renewable Emission Factor', u'Number of Portables', u'Swimming Pools', u'GHG Emissions KG', u'en_intensity_ekWh_sqft', u'Energy Intensity ekWh_mega_litre', u'lat', u'lng', u'en_intensity_ekWh_sqft_pct_rank', u'dim_operation_type', u'dim_City', u'dim_organization', u'tot_floor_area_ft2', u'en_intensity_rank'], dtype='object')"
       ]
      }
     ],
     "prompt_number": 69
    },
    {
     "cell_type": "code",
     "collapsed": false,
     "input": [
      "cols_to_keep = ['dim_organization', 'dim_operation_type', 'operation_name', 'Address', \n",
      "                'dim_City', 'Zip', 'en_intensity_ekWh_sqft', \n",
      "                'lat', 'lng', 'tot_floor_area_ft2', 'en_intensity_rank', 'en_intensity_ekWh_sqft_pct_rank' ]"
     ],
     "language": "python",
     "metadata": {},
     "outputs": [],
     "prompt_number": 71
    },
    {
     "cell_type": "code",
     "collapsed": false,
     "input": [
      "for col in df_master.columns:\n",
      "    if col not in cols_to_keep: del df_master_short[col]"
     ],
     "language": "python",
     "metadata": {},
     "outputs": [],
     "prompt_number": 72
    },
    {
     "cell_type": "code",
     "collapsed": false,
     "input": [
      "df_master_short.to_csv(\"data_2/master_short.csv\")"
     ],
     "language": "python",
     "metadata": {},
     "outputs": [],
     "prompt_number": 73
    },
    {
     "cell_type": "code",
     "collapsed": false,
     "input": [
      "df_dim_city.to_csv(\"data_2/dim_city.csv\")"
     ],
     "language": "python",
     "metadata": {},
     "outputs": [],
     "prompt_number": 20
    },
    {
     "cell_type": "code",
     "collapsed": false,
     "input": [
      "df_dim_organization.to_csv(\"data_2/dim_organization.csv\")"
     ],
     "language": "python",
     "metadata": {},
     "outputs": [],
     "prompt_number": 21
    },
    {
     "cell_type": "code",
     "collapsed": false,
     "input": [
      "df_dim_op_type.to_csv(\"data_2/dim_operation_type.csv\")"
     ],
     "language": "python",
     "metadata": {},
     "outputs": [],
     "prompt_number": 75
    },
    {
     "cell_type": "code",
     "collapsed": false,
     "input": [
      "%matplotlib inline\n",
      "df_master.query(\"dim_operation_type == 4\").en_intensity_ekWh_sqft.hist() "
     ],
     "language": "python",
     "metadata": {},
     "outputs": [
      {
       "metadata": {},
       "output_type": "pyout",
       "prompt_number": 23,
       "text": [
        "<matplotlib.axes._subplots.AxesSubplot at 0x10988bb90>"
       ]
      },
      {
       "metadata": {},
       "output_type": "display_data",
       "png": "[encoded data removed]",
       "text": [
        "<matplotlib.figure.Figure at 0x10988b310>"
       ]
      }
     ],
     "prompt_number": 23
    },
    {
     "cell_type": "code",
     "collapsed": false,
     "input": [],
     "language": "python",
     "metadata": {},
     "outputs": []
    }
   ],
   "metadata": {}
  }
 ]
}