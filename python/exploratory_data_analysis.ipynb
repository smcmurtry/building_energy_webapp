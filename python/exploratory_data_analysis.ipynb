{
 "metadata": {
  "name": "",
  "signature": "sha256:f63e1c34c4e259af640b10a628961955050c03b108225ff1be57719e82394ce9"
 },
 "nbformat": 3,
 "nbformat_minor": 0,
 "worksheets": [
  {
   "cells": [
    {
     "cell_type": "heading",
     "level": 2,
     "metadata": {},
     "source": [
      "Exploratory Data Analysis"
     ]
    },
    {
     "cell_type": "markdown",
     "metadata": {},
     "source": [
      "fuel efficiency dataset: http://open.canada.ca/data/en/dataset/98f1a129-f628-4ce4-b24d-6f16bf24dd64"
     ]
    },
    {
     "cell_type": "markdown",
     "metadata": {},
     "source": [
      "Use the 5-cycle test data because it reflects more realistic driving conditions"
     ]
    },
    {
     "cell_type": "code",
     "collapsed": false,
     "input": [
      "import pandas as pd\n",
      "from matplotlib import pyplot as plt\n",
      "%matplotlib inline"
     ],
     "language": "python",
     "metadata": {},
     "outputs": [],
     "prompt_number": 62
    },
    {
     "cell_type": "code",
     "collapsed": false,
     "input": [
      "fuel_type = {'X': 'Regular gasoline',\n",
      "             'Z': 'Premium gasoline',\n",
      "             'D': 'Diesel',\n",
      "             'E': 'Ethanol (E85)'}"
     ],
     "language": "python",
     "metadata": {},
     "outputs": [],
     "prompt_number": 18
    },
    {
     "cell_type": "code",
     "collapsed": false,
     "input": [
      "transmission = {'A': 'Automatic',\n",
      "                'AM': 'Automated manual',\n",
      "                'AS': 'Automatic with select shift',\n",
      "                'AV': 'Continuously variable',\n",
      "                'M': 'Manual'}\n",
      "# the number that follows (3-10) indicates the number of gears"
     ],
     "language": "python",
     "metadata": {},
     "outputs": [],
     "prompt_number": 19
    },
    {
     "cell_type": "code",
     "collapsed": false,
     "input": [
      "df = pd.DataFrame.from_csv('data/combined_5-cycle_ratings_2000-2015.csv', index_col=None)"
     ],
     "language": "python",
     "metadata": {},
     "outputs": [],
     "prompt_number": 20
    },
    {
     "cell_type": "code",
     "collapsed": false,
     "input": [
      "del df['Unnamed: 13']\n",
      "del df['Unnamed: 14']"
     ],
     "language": "python",
     "metadata": {},
     "outputs": [],
     "prompt_number": 22
    },
    {
     "cell_type": "code",
     "collapsed": false,
     "input": [
      "df.columns"
     ],
     "language": "python",
     "metadata": {},
     "outputs": [
      {
       "metadata": {},
       "output_type": "pyout",
       "prompt_number": 34,
       "text": [
        "Index([u'MODEL YEAR', u'MAKE', u'MODEL', u'VEHICLE CLASS', u'ENGINE SIZE (L)', u'CYLINDERS', u'TRANSMISSION', u'FUEL TYPE', u'FUEL CONSUMPTION CITY (L/100 km)', u'FUEL CONSUMPTION HWY (L/100 km)', u'FUEL CONSUMPTION COMB (L/100 km)', u'FUEL CONSUMPTION COMB (mpg)', u'CO2 EMISSIONS (g/km)'], dtype='object')"
       ]
      }
     ],
     "prompt_number": 34
    },
    {
     "cell_type": "code",
     "collapsed": false,
     "input": [
      "df.columns = ['model_year', 'make', 'model', 'class', 'engine_size_L', \n",
      "              'cylinders', 'transmission', 'fuel_type', 'cons_city_Lp100km', 'cons_hwy_Lp100km',\n",
      "              'cons_comb_Lp100km', 'cons_comb_mpg', 'co2_em_gpkm']"
     ],
     "language": "python",
     "metadata": {},
     "outputs": [],
     "prompt_number": 35
    },
    {
     "cell_type": "code",
     "collapsed": false,
     "input": [
      "df.head()"
     ],
     "language": "python",
     "metadata": {},
     "outputs": [
      {
       "html": [
        "<div style=\"max-height:1000px;max-width:1500px;overflow:auto;\">\n",
        "<table border=\"1\" class=\"dataframe\">\n",
        "  <thead>\n",
        "    <tr style=\"text-align: right;\">\n",
        "      <th></th>\n",
        "      <th>model_year</th>\n",
        "      <th>make</th>\n",
        "      <th>model</th>\n",
        "      <th>class</th>\n",
        "      <th>engine_size_L</th>\n",
        "      <th>cylinders</th>\n",
        "      <th>transmission</th>\n",
        "      <th>fuel_type</th>\n",
        "      <th>cons_city_Lp100km</th>\n",
        "      <th>cons_hwy_Lp100km</th>\n",
        "      <th>cons_comb_Lp100km</th>\n",
        "      <th>cons_comb_mpg</th>\n",
        "      <th>co2_em_gpkm</th>\n",
        "    </tr>\n",
        "  </thead>\n",
        "  <tbody>\n",
        "    <tr>\n",
        "      <th>0</th>\n",
        "      <td> 2015</td>\n",
        "      <td> ACURA</td>\n",
        "      <td>        ILX</td>\n",
        "      <td>     COMPACT</td>\n",
        "      <td> 2.0</td>\n",
        "      <td> 4</td>\n",
        "      <td> AS5</td>\n",
        "      <td> Z</td>\n",
        "      <td>  9.7</td>\n",
        "      <td> 6.7</td>\n",
        "      <td>  8.3</td>\n",
        "      <td> 34</td>\n",
        "      <td> 191</td>\n",
        "    </tr>\n",
        "    <tr>\n",
        "      <th>1</th>\n",
        "      <td> 2015</td>\n",
        "      <td> ACURA</td>\n",
        "      <td>        ILX</td>\n",
        "      <td>     COMPACT</td>\n",
        "      <td> 2.4</td>\n",
        "      <td> 4</td>\n",
        "      <td>  M6</td>\n",
        "      <td> Z</td>\n",
        "      <td> 10.8</td>\n",
        "      <td> 7.4</td>\n",
        "      <td>  9.3</td>\n",
        "      <td> 30</td>\n",
        "      <td> 214</td>\n",
        "    </tr>\n",
        "    <tr>\n",
        "      <th>2</th>\n",
        "      <td> 2015</td>\n",
        "      <td> ACURA</td>\n",
        "      <td> ILX HYBRID</td>\n",
        "      <td>     COMPACT</td>\n",
        "      <td> 1.5</td>\n",
        "      <td> 4</td>\n",
        "      <td> AV7</td>\n",
        "      <td> Z</td>\n",
        "      <td>  6.0</td>\n",
        "      <td> 6.1</td>\n",
        "      <td>  6.1</td>\n",
        "      <td> 46</td>\n",
        "      <td> 140</td>\n",
        "    </tr>\n",
        "    <tr>\n",
        "      <th>3</th>\n",
        "      <td> 2015</td>\n",
        "      <td> ACURA</td>\n",
        "      <td> MDX SH-AWD</td>\n",
        "      <td> SUV - SMALL</td>\n",
        "      <td> 3.5</td>\n",
        "      <td> 6</td>\n",
        "      <td> AS6</td>\n",
        "      <td> Z</td>\n",
        "      <td> 12.7</td>\n",
        "      <td> 9.1</td>\n",
        "      <td> 11.1</td>\n",
        "      <td> 25</td>\n",
        "      <td> 255</td>\n",
        "    </tr>\n",
        "    <tr>\n",
        "      <th>4</th>\n",
        "      <td> 2015</td>\n",
        "      <td> ACURA</td>\n",
        "      <td>    RDX AWD</td>\n",
        "      <td> SUV - SMALL</td>\n",
        "      <td> 3.5</td>\n",
        "      <td> 6</td>\n",
        "      <td> AS6</td>\n",
        "      <td> Z</td>\n",
        "      <td> 12.1</td>\n",
        "      <td> 8.7</td>\n",
        "      <td> 10.6</td>\n",
        "      <td> 27</td>\n",
        "      <td> 244</td>\n",
        "    </tr>\n",
        "  </tbody>\n",
        "</table>\n",
        "</div>"
       ],
       "metadata": {},
       "output_type": "pyout",
       "prompt_number": 38,
       "text": [
        "   model_year   make       model        class  engine_size_L  cylinders  \\\n",
        "0        2015  ACURA         ILX      COMPACT            2.0          4   \n",
        "1        2015  ACURA         ILX      COMPACT            2.4          4   \n",
        "2        2015  ACURA  ILX HYBRID      COMPACT            1.5          4   \n",
        "3        2015  ACURA  MDX SH-AWD  SUV - SMALL            3.5          6   \n",
        "4        2015  ACURA     RDX AWD  SUV - SMALL            3.5          6   \n",
        "\n",
        "  transmission fuel_type  cons_city_Lp100km  cons_hwy_Lp100km  \\\n",
        "0          AS5         Z                9.7               6.7   \n",
        "1           M6         Z               10.8               7.4   \n",
        "2          AV7         Z                6.0               6.1   \n",
        "3          AS6         Z               12.7               9.1   \n",
        "4          AS6         Z               12.1               8.7   \n",
        "\n",
        "   cons_comb_Lp100km  cons_comb_mpg  co2_em_gpkm  \n",
        "0                8.3             34          191  \n",
        "1                9.3             30          214  \n",
        "2                6.1             46          140  \n",
        "3               11.1             25          255  \n",
        "4               10.6             27          244  "
       ]
      }
     ],
     "prompt_number": 38
    },
    {
     "cell_type": "heading",
     "level": 4,
     "metadata": {},
     "source": [
      "webapp flow"
     ]
    },
    {
     "cell_type": "markdown",
     "metadata": {},
     "source": [
      "User selections from drop-down menu:"
     ]
    },
    {
     "cell_type": "code",
     "collapsed": false,
     "input": [
      "make = 'ACURA'\n",
      "model = 'ILX'\n",
      "engine_size = 2.0 # L\n",
      "year = 2015"
     ],
     "language": "python",
     "metadata": {},
     "outputs": [],
     "prompt_number": 46
    },
    {
     "cell_type": "markdown",
     "metadata": {},
     "source": [
      "How many kilometers is the trip?"
     ]
    },
    {
     "cell_type": "code",
     "collapsed": false,
     "input": [
      "trip_dist_km = 50."
     ],
     "language": "python",
     "metadata": {},
     "outputs": [],
     "prompt_number": 80
    },
    {
     "cell_type": "markdown",
     "metadata": {},
     "source": [
      "Other values to look up"
     ]
    },
    {
     "cell_type": "code",
     "collapsed": false,
     "input": [
      "city, province = 'Toronto', 'ON' # from geo locator"
     ],
     "language": "python",
     "metadata": {},
     "outputs": [],
     "prompt_number": 81
    },
    {
     "cell_type": "code",
     "collapsed": false,
     "input": [
      "prov_abbr = {'AB': 'Alberta', 'MB': 'Manitoba', 'SK': 'Saskatchewan', \n",
      "             'ON': 'Ontario', 'NB': 'New Brunswick', 'PE': 'Prince Edward Island',\n",
      "             'NS': 'Nova Scotia', 'BC': 'British Columbia',\n",
      "             'QC': 'Quebec', 'NL': 'Newfoundland and Labrador', 'NT': 'Northwest Territories',\n",
      "             'NU': 'Nunavut', 'YT': 'Yukon'}"
     ],
     "language": "python",
     "metadata": {},
     "outputs": [],
     "prompt_number": 82
    },
    {
     "cell_type": "markdown",
     "metadata": {},
     "source": [
      "Retrieved from gas buddy (http://www.gasbuddy.com/GB_Price_List.aspx) on Friday February 20, 2015"
     ]
    },
    {
     "cell_type": "code",
     "collapsed": false,
     "input": [
      "gas_prices = {'AB': 88.6, 'MB': 90.1, 'SK': 93.9, 'ON': 99.1, 'NB': 101.1,\n",
      "              'PE': 103.5, 'NS': 104.4, 'BC': 108.1, 'QC': 109.2,\n",
      "              'NL': 111.4, 'NT': 113.9, 'YT': 113.9, 'NU': 113.9} # set YT and NU to NT"
     ],
     "language": "python",
     "metadata": {},
     "outputs": [],
     "prompt_number": 83
    },
    {
     "cell_type": "markdown",
     "metadata": {},
     "source": [
      "Calculations"
     ]
    },
    {
     "cell_type": "code",
     "collapsed": false,
     "input": [
      "round_trip_dist_km = trip_dist_km * 2.\n",
      "initial_results = df.query(\"model_year == @year and make == @make and model == @model\")\n",
      "fuel_eff_Lp100km = list(initial_results.query(\"engine_size_L == @engine_size\")['cons_comb_Lp100km'])[0]\n",
      "print fuel_eff_Lpkm"
     ],
     "language": "python",
     "metadata": {},
     "outputs": [
      {
       "output_type": "stream",
       "stream": "stdout",
       "text": [
        "0.083\n"
       ]
      }
     ],
     "prompt_number": 84
    },
    {
     "cell_type": "code",
     "collapsed": false,
     "input": [
      "fuel_eff_Lpkm = fuel_eff_Lp100km / 100.\n",
      "L_per_round_trip = fuel_eff_Lpkm * round_trip_dist_km\n",
      "CAD_per_round_trip = L_per_round_trip * gas_prices[province] * 0.01\n",
      "print CAD_per_round_trip"
     ],
     "language": "python",
     "metadata": {},
     "outputs": [
      {
       "output_type": "stream",
       "stream": "stdout",
       "text": [
        "8.2253\n"
       ]
      }
     ],
     "prompt_number": 85
    },
    {
     "cell_type": "code",
     "collapsed": false,
     "input": [],
     "language": "python",
     "metadata": {},
     "outputs": []
    },
    {
     "cell_type": "code",
     "collapsed": false,
     "input": [
      "set(df.make)"
     ],
     "language": "python",
     "metadata": {},
     "outputs": [
      {
       "metadata": {},
       "output_type": "pyout",
       "prompt_number": 77,
       "text": [
        "{'ACURA',\n",
        " 'ALFA ROMEO',\n",
        " 'ASTON MARTIN',\n",
        " 'AUDI',\n",
        " 'BENTLEY',\n",
        " 'BMW',\n",
        " 'BUGATTI',\n",
        " 'BUICK',\n",
        " 'CADILLAC',\n",
        " 'CHEVROLET',\n",
        " 'CHRYSLER',\n",
        " 'DAEWOO',\n",
        " 'DODGE',\n",
        " 'FERRARI',\n",
        " 'FIAT',\n",
        " 'FORD',\n",
        " 'GMC',\n",
        " 'HONDA',\n",
        " 'HUMMER',\n",
        " 'HYUNDAI',\n",
        " 'INFINITI',\n",
        " 'ISUZU',\n",
        " 'JAGUAR',\n",
        " 'JEEP',\n",
        " 'KIA',\n",
        " 'LAMBORGHINI',\n",
        " 'LAND ROVER',\n",
        " 'LEXUS',\n",
        " 'LINCOLN',\n",
        " 'MASERATI',\n",
        " 'MAZDA',\n",
        " 'MERCEDES-BENZ',\n",
        " 'MINI',\n",
        " 'MITSUBISHI',\n",
        " 'NISSAN',\n",
        " 'OLDSMOBILE',\n",
        " 'PLYMOUTH',\n",
        " 'PONTIAC',\n",
        " 'PORSCHE',\n",
        " 'RAM',\n",
        " 'ROLLS-ROYCE',\n",
        " 'SAAB',\n",
        " 'SATURN',\n",
        " 'SCION',\n",
        " 'SMART',\n",
        " 'SRT',\n",
        " 'SUBARU',\n",
        " 'SUZUKI',\n",
        " 'TOYOTA',\n",
        " 'VOLKSWAGEN',\n",
        " 'VOLVO'}"
       ]
      }
     ],
     "prompt_number": 77
    },
    {
     "cell_type": "code",
     "collapsed": false,
     "input": [
      "set(df.query(\"make == 'ACURA'\")['model'])"
     ],
     "language": "python",
     "metadata": {},
     "outputs": [
      {
       "metadata": {},
       "output_type": "pyout",
       "prompt_number": 79,
       "text": [
        "{'1.6EL',\n",
        " '1.7EL',\n",
        " '3.2CL',\n",
        " '3.2TL',\n",
        " '3.5RL',\n",
        " 'CSX',\n",
        " 'ILX',\n",
        " 'ILX HYBRID',\n",
        " 'INTEGRA',\n",
        " 'INTEGRA GS-R',\n",
        " 'INTEGRA GSR/TYPE R',\n",
        " 'MDX',\n",
        " 'MDX 4WD',\n",
        " 'MDX 4X4',\n",
        " 'MDX AWD',\n",
        " 'MDX SH-AWD',\n",
        " 'NSX',\n",
        " 'RDX AWD',\n",
        " 'RDX AWD TURBO',\n",
        " 'RL',\n",
        " 'RL AWD',\n",
        " 'RLX',\n",
        " 'RLX HYBRID',\n",
        " 'RSX',\n",
        " 'RSX TYPE S',\n",
        " 'TL',\n",
        " 'TL AWD',\n",
        " 'TLX',\n",
        " 'TLX SH-AWD',\n",
        " 'TSX',\n",
        " 'ZDX AWD'}"
       ]
      }
     ],
     "prompt_number": 79
    },
    {
     "cell_type": "code",
     "collapsed": false,
     "input": [],
     "language": "python",
     "metadata": {},
     "outputs": []
    }
   ],
   "metadata": {}
  }
 ]
}