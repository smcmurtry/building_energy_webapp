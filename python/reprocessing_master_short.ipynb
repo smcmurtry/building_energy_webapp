{
 "metadata": {
  "name": "",
  "signature": "sha256:5877f3d66f6d6ca3b24d22c3a6733d5f491f75e8aa429402922c08eea010a103"
 },
 "nbformat": 3,
 "nbformat_minor": 0,
 "worksheets": [
  {
   "cells": [
    {
     "cell_type": "code",
     "collapsed": false,
     "input": [
      "import pandas as pd\n",
      "import numpy as np"
     ],
     "language": "python",
     "metadata": {},
     "outputs": [],
     "prompt_number": 1
    },
    {
     "cell_type": "markdown",
     "metadata": {},
     "source": [
      "master = pd.DataFrame.from_csv(\"data_2/master_short.csv\")\n",
      "master.columns\n",
      "del master['en_intensity_ekWh_sqft_pct_rank']\n",
      "del master['en_intensity_rank']\n",
      "master.to_csv(\"data_2/master_short_no_ranks.csv\")"
     ]
    },
    {
     "cell_type": "code",
     "collapsed": false,
     "input": [
      "master = pd.DataFrame.from_csv(\"data_2/master_short_no_ranks.csv\")"
     ],
     "language": "python",
     "metadata": {},
     "outputs": [],
     "prompt_number": 26
    },
    {
     "cell_type": "code",
     "collapsed": false,
     "input": [
      "def create_rank_col(df, dim_col, new_col):\n",
      "    df[new_col] = pd.Series(index=df.index)\n",
      "    for i in df.index[:]:\n",
      "        en_intensity = df.en_intensity_ekWh_sqft[i]\n",
      "        dim_num = df[dim_col][i]\n",
      "        peer_en_intensities = df.query(dim_col + \" == @dim_num\").en_intensity_ekWh_sqft\n",
      "        seq = sorted(peer_en_intensities)\n",
      "        rank = seq.index(en_intensity) + 1\n",
      "        df.ix[i, new_col] = rank\n",
      "    return df"
     ],
     "language": "python",
     "metadata": {},
     "outputs": [],
     "prompt_number": 27
    },
    {
     "cell_type": "code",
     "collapsed": false,
     "input": [
      "master = create_rank_col(master, 'dim_organization', 'org_rank')"
     ],
     "language": "python",
     "metadata": {},
     "outputs": [],
     "prompt_number": 28
    },
    {
     "cell_type": "code",
     "collapsed": false,
     "input": [
      "master = create_rank_col(master, 'dim_operation_type', 'op_type_rank')"
     ],
     "language": "python",
     "metadata": {},
     "outputs": [],
     "prompt_number": 29
    },
    {
     "cell_type": "code",
     "collapsed": false,
     "input": [
      "master = create_rank_col(master, 'dim_City', 'city_rank')"
     ],
     "language": "python",
     "metadata": {},
     "outputs": [],
     "prompt_number": 32
    },
    {
     "cell_type": "code",
     "collapsed": false,
     "input": [
      "master[['org_rank', 'op_type_rank', 'city_rank']] = master[['org_rank', 'op_type_rank', 'city_rank']].astype(int)"
     ],
     "language": "python",
     "metadata": {},
     "outputs": [],
     "prompt_number": 48
    },
    {
     "cell_type": "code",
     "collapsed": false,
     "input": [
      "master.index.name = 'index'"
     ],
     "language": "python",
     "metadata": {},
     "outputs": [],
     "prompt_number": 51
    },
    {
     "cell_type": "code",
     "collapsed": false,
     "input": [
      "master.to_csv(\"data_2/master_short.csv\")"
     ],
     "language": "python",
     "metadata": {},
     "outputs": [],
     "prompt_number": 52
    },
    {
     "cell_type": "code",
     "collapsed": false,
     "input": [
      "dim_org['n_buildings'] = pd.Series(index=dim_org.index)\n",
      "for i in dim_org.index:\n",
      "    dim_org_id = dim_org.dim_organization[i]\n",
      "    dim_org.ix[i, 'n_buildings'] = len(master.query(\"dim_organization == @dim_org_id\"))"
     ],
     "language": "python",
     "metadata": {},
     "outputs": [],
     "prompt_number": 57
    },
    {
     "cell_type": "code",
     "collapsed": false,
     "input": [
      "dim_org['n_buildings'] = dim_org['n_buildings'].astype(int)"
     ],
     "language": "python",
     "metadata": {},
     "outputs": [],
     "prompt_number": 61
    },
    {
     "cell_type": "code",
     "collapsed": false,
     "input": [
      "dim_org.to_csv(\"data_2/dim_organization.csv\")"
     ],
     "language": "python",
     "metadata": {},
     "outputs": [],
     "prompt_number": 62
    },
    {
     "cell_type": "code",
     "collapsed": false,
     "input": [],
     "language": "python",
     "metadata": {},
     "outputs": []
    }
   ],
   "metadata": {}
  }
 ]
}